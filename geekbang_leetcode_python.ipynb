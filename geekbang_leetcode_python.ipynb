{
  "nbformat": 4,
  "nbformat_minor": 0,
  "metadata": {
    "colab": {
      "name": "geekbang_leetcode_python.ipynb",
      "provenance": [],
      "collapsed_sections": [],
      "authorship_tag": "ABX9TyOPEBoX4EKMLzc/TdP165jr",
      "include_colab_link": true
    },
    "kernelspec": {
      "name": "python3",
      "display_name": "Python 3"
    },
    "language_info": {
      "name": "python"
    }
  },
  "cells": [
    {
      "cell_type": "markdown",
      "metadata": {
        "id": "view-in-github",
        "colab_type": "text"
      },
      "source": [
        "<a href=\"https://colab.research.google.com/github/tenet2030/python_courses/blob/main/geekbang_leetcode_python.ipynb\" target=\"_parent\"><img src=\"https://colab.research.google.com/assets/colab-badge.svg\" alt=\"Open In Colab\"/></a>"
      ]
    },
    {
      "cell_type": "code",
      "metadata": {
        "id": "UmV_tp3Q_qhT"
      },
      "source": [
        ""
      ],
      "execution_count": null,
      "outputs": []
    },
    {
      "cell_type": "markdown",
      "metadata": {
        "id": "I3O8E4n2_iWT"
      },
      "source": [
        "\n",
        "[20. Valid Parentheses](https://leetcode-cn.com/problems/valid-parentheses/)\n",
        "\n",
        "*easy\n",
        "\n",
        "Given a string s containing just the characters '(', ')', '{', '}', '[' and ']', determine if the input string is valid.\n",
        "\n",
        "An input string is valid if:\n",
        "\n",
        "Open brackets must be closed by the same type of brackets.\n",
        "Open brackets must be closed in the correct order.\n",
        " \n",
        "\n",
        "Example 1:\n",
        "\n",
        "Input: s = \"()\"\n",
        "Output: true\n",
        "\n",
        "Example 2:\n",
        "\n",
        "Input: s = \"()[]{}\"\n",
        "Output: true\n",
        "\n",
        "Example 3:\n",
        "\n",
        "Input: s = \"(]\"\n",
        "Output: false\n",
        "\n",
        "Example 4:\n",
        "\n",
        "Input: s = \"([)]\"\n",
        "Output: false\n",
        "\n",
        "Example 5:\n",
        "\n",
        "Input: s = \"{[]}\"\n",
        "Output: true\n",
        " \n",
        "\n",
        "Constraints:\n",
        "\n",
        "1 <= s.length <= 104\n",
        "\n",
        "s consists of parentheses only '()[]{}'.\n",
        "\n"
      ]
    },
    {
      "cell_type": "code",
      "metadata": {
        "id": "FN17rrsSAGxP"
      },
      "source": [
        "class Solution_0020:\n",
        "    def isValid(self, s: str) -> bool:\n",
        "        stack = []\n",
        "        paren_map = {')': '(', ']':'[', '}':'{'}\n",
        "        for c in s:\n",
        "            if c not in paren_map:\n",
        "                stack.append(c)\n",
        "            elif not stack or paren_map[c] != stack.pop():\n",
        "                return False\n",
        "        return not stack"
      ],
      "execution_count": 1,
      "outputs": []
    },
    {
      "cell_type": "code",
      "metadata": {
        "colab": {
          "base_uri": "https://localhost:8080/"
        },
        "id": "y7PzyQLKARbw",
        "outputId": "c6facdb6-2800-46a3-fe42-3f12ba6c65d0"
      },
      "source": [
        "test_20 = Solution_0020()\n",
        "print(test_20.isValid(\"()\"))"
      ],
      "execution_count": 3,
      "outputs": [
        {
          "output_type": "stream",
          "text": [
            "True\n"
          ],
          "name": "stdout"
        }
      ]
    },
    {
      "cell_type": "code",
      "metadata": {
        "id": "2TmX5l2-Ad3V"
      },
      "source": [
        ""
      ],
      "execution_count": null,
      "outputs": []
    },
    {
      "cell_type": "markdown",
      "metadata": {
        "id": "tK9nUvUuBsnW"
      },
      "source": [
        "[232. Implement Queue using Stacks](https://leetcode-cn.com/problems/implement-queue-using-stacks/)\n",
        "\n",
        "Implement a first in first out (FIFO) queue using only two stacks. The implemented queue should support all the functions of a normal queue (push, peek, pop, and empty).\n",
        "\n",
        "Implement the MyQueue class:\n",
        "\n",
        "void push(int x) Pushes element x to the back of the queue.\n",
        "int pop() Removes the element from the front of the queue and returns it.\n",
        "int peek() Returns the element at the front of the queue.\n",
        "boolean empty() Returns true if the queue is empty, false otherwise.\n",
        "Notes:\n",
        "\n",
        "You must use only standard operations of a stack, which means only push to top, peek/pop from top, size, and is empty operations are valid.\n",
        "Depending on your language, the stack may not be supported natively. You may simulate a stack using a list or deque (double-ended queue) as long as you use only a stack's standard operations.\n",
        "Follow-up: Can you implement the queue such that each operation is amortized O(1) time complexity? In other words, performing n operations will take overall O(n) time even if one of those operations may take longer.\n",
        "\n",
        " \n",
        "\n",
        "Example 1:\n",
        "\n",
        "Input\n",
        "[\"MyQueue\", \"push\", \"push\", \"peek\", \"pop\", \"empty\"]\n",
        "[[], [1], [2], [], [], []]\n",
        "Output\n",
        "[null, null, null, 1, 1, false]\n",
        "\n",
        "Explanation\n",
        "MyQueue myQueue = new MyQueue();\n",
        "myQueue.push(1); // queue is: [1]\n",
        "myQueue.push(2); // queue is: [1, 2] (leftmost is front of the queue)\n",
        "myQueue.peek(); // return 1\n",
        "myQueue.pop(); // return 1, queue is [2]\n",
        "myQueue.empty(); // return false\n",
        " \n",
        "\n",
        "Constraints:\n",
        "\n",
        "1 <= x <= 9\n",
        "At most 100 calls will be made to push, pop, peek, and empty.\n",
        "All the calls to pop and peek are valid.\n",
        "\n"
      ]
    },
    {
      "cell_type": "code",
      "metadata": {
        "id": "ArnByBu4CKQq"
      },
      "source": [
        "class MyQueue:\n",
        "\n",
        "    def __init__(self):\n",
        "        \"\"\"\n",
        "        Initialize your data structure here.\n",
        "        \"\"\"\n",
        "        self.in_stack = []\n",
        "        self.out_stack = []\n",
        "\n",
        "\n",
        "    def push(self, x: int) -> None:\n",
        "        \"\"\"\n",
        "        Push element x to the back of queue.\n",
        "        \"\"\"\n",
        "        self.in_stack.append(x)\n",
        "\n",
        "\n",
        "    def pop(self) -> int:\n",
        "        \"\"\"\n",
        "        Removes the element from in front of queue and returns that element.\n",
        "        \"\"\"\n",
        "        if self.out_stack:\n",
        "          return self.out_stack.pop()\n",
        "        \n",
        "        while self.in_stack:\n",
        "          self.out_stack.append(self.in_stack.pop())\n",
        "        return self.out_stack.pop()\n",
        "\n",
        "\n",
        "    def peek(self) -> int:\n",
        "        \"\"\"\n",
        "        Get the front element.\n",
        "        \"\"\"\n",
        "        if self.out_stack:\n",
        "          return self.out_stack[-1]\n",
        "        \n",
        "        while self.in_stack:\n",
        "          self.out_stack.append(self.in_stack.pop())\n",
        "        return self.out_stack[-1]\n",
        "\n",
        "\n",
        "    def empty(self) -> bool:\n",
        "        \"\"\"\n",
        "        Returns whether the queue is empty.\n",
        "        \"\"\"\n",
        "        return len(self.in_stack) == 0 and len(self.out_stack) == 0\n",
        "\n",
        "\n",
        "\n",
        "# Your MyQueue object will be instantiated and called as such:\n",
        "# obj = MyQueue()\n",
        "# obj.push(x)\n",
        "# param_2 = obj.pop()\n",
        "# param_3 = obj.peek()\n",
        "# param_4 = obj.empty()"
      ],
      "execution_count": null,
      "outputs": []
    },
    {
      "cell_type": "code",
      "metadata": {
        "id": "wqsNxmPqCLX5"
      },
      "source": [
        ""
      ],
      "execution_count": null,
      "outputs": []
    },
    {
      "cell_type": "code",
      "metadata": {
        "id": "R5ukt8oVCLaZ"
      },
      "source": [
        ""
      ],
      "execution_count": null,
      "outputs": []
    },
    {
      "cell_type": "code",
      "metadata": {
        "id": "XBnQVA6kCLc_"
      },
      "source": [
        ""
      ],
      "execution_count": null,
      "outputs": []
    }
  ]
}